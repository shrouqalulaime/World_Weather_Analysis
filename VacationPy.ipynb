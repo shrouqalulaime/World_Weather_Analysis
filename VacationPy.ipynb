{
 "cells": [
  {
   "cell_type": "code",
   "execution_count": 1,
   "id": "5319331d",
   "metadata": {},
   "outputs": [],
   "source": [
    "# Import the dependencies.\n",
    "import pandas as pd\n",
    "import gmaps\n",
    "import requests\n",
    "# Import the API key.\n",
    "from config import g_key"
   ]
  },
  {
   "cell_type": "code",
   "execution_count": 2,
   "id": "6782f80c",
   "metadata": {},
   "outputs": [
    {
     "data": {
      "text/html": [
       "<div>\n",
       "<style scoped>\n",
       "    .dataframe tbody tr th:only-of-type {\n",
       "        vertical-align: middle;\n",
       "    }\n",
       "\n",
       "    .dataframe tbody tr th {\n",
       "        vertical-align: top;\n",
       "    }\n",
       "\n",
       "    .dataframe thead th {\n",
       "        text-align: right;\n",
       "    }\n",
       "</style>\n",
       "<table border=\"1\" class=\"dataframe\">\n",
       "  <thead>\n",
       "    <tr style=\"text-align: right;\">\n",
       "      <th></th>\n",
       "      <th>City_ID</th>\n",
       "      <th>City</th>\n",
       "      <th>Country</th>\n",
       "      <th>Date</th>\n",
       "      <th>Lat</th>\n",
       "      <th>Lng</th>\n",
       "      <th>Max Temp</th>\n",
       "      <th>Humidity</th>\n",
       "      <th>Cloudiness</th>\n",
       "      <th>Wind Speed</th>\n",
       "    </tr>\n",
       "  </thead>\n",
       "  <tbody>\n",
       "    <tr>\n",
       "      <th>0</th>\n",
       "      <td>0</td>\n",
       "      <td>Bambous Virieux</td>\n",
       "      <td>MU</td>\n",
       "      <td>2022-11-15 17:54:25</td>\n",
       "      <td>-20.3428</td>\n",
       "      <td>57.7575</td>\n",
       "      <td>71.85</td>\n",
       "      <td>64</td>\n",
       "      <td>40</td>\n",
       "      <td>6.91</td>\n",
       "    </tr>\n",
       "    <tr>\n",
       "      <th>1</th>\n",
       "      <td>1</td>\n",
       "      <td>Riyadh</td>\n",
       "      <td>SA</td>\n",
       "      <td>2022-11-15 17:52:40</td>\n",
       "      <td>24.6877</td>\n",
       "      <td>46.7219</td>\n",
       "      <td>77.14</td>\n",
       "      <td>24</td>\n",
       "      <td>0</td>\n",
       "      <td>8.86</td>\n",
       "    </tr>\n",
       "    <tr>\n",
       "      <th>2</th>\n",
       "      <td>2</td>\n",
       "      <td>Vanderhoof</td>\n",
       "      <td>CA</td>\n",
       "      <td>2022-11-15 17:54:26</td>\n",
       "      <td>54.0166</td>\n",
       "      <td>-124.0198</td>\n",
       "      <td>28.08</td>\n",
       "      <td>90</td>\n",
       "      <td>100</td>\n",
       "      <td>1.07</td>\n",
       "    </tr>\n",
       "    <tr>\n",
       "      <th>3</th>\n",
       "      <td>3</td>\n",
       "      <td>Amahai</td>\n",
       "      <td>ID</td>\n",
       "      <td>2022-11-15 17:54:27</td>\n",
       "      <td>-3.3333</td>\n",
       "      <td>128.9167</td>\n",
       "      <td>79.72</td>\n",
       "      <td>81</td>\n",
       "      <td>94</td>\n",
       "      <td>2.91</td>\n",
       "    </tr>\n",
       "    <tr>\n",
       "      <th>4</th>\n",
       "      <td>4</td>\n",
       "      <td>Poceirao</td>\n",
       "      <td>PT</td>\n",
       "      <td>2022-11-15 17:54:27</td>\n",
       "      <td>38.8310</td>\n",
       "      <td>-8.7937</td>\n",
       "      <td>63.54</td>\n",
       "      <td>91</td>\n",
       "      <td>100</td>\n",
       "      <td>7.52</td>\n",
       "    </tr>\n",
       "  </tbody>\n",
       "</table>\n",
       "</div>"
      ],
      "text/plain": [
       "   City_ID             City Country                 Date      Lat       Lng  \\\n",
       "0        0  Bambous Virieux      MU  2022-11-15 17:54:25 -20.3428   57.7575   \n",
       "1        1           Riyadh      SA  2022-11-15 17:52:40  24.6877   46.7219   \n",
       "2        2       Vanderhoof      CA  2022-11-15 17:54:26  54.0166 -124.0198   \n",
       "3        3           Amahai      ID  2022-11-15 17:54:27  -3.3333  128.9167   \n",
       "4        4         Poceirao      PT  2022-11-15 17:54:27  38.8310   -8.7937   \n",
       "\n",
       "   Max Temp  Humidity  Cloudiness  Wind Speed  \n",
       "0     71.85        64          40        6.91  \n",
       "1     77.14        24           0        8.86  \n",
       "2     28.08        90         100        1.07  \n",
       "3     79.72        81          94        2.91  \n",
       "4     63.54        91         100        7.52  "
      ]
     },
     "execution_count": 2,
     "metadata": {},
     "output_type": "execute_result"
    }
   ],
   "source": [
    "# Store the CSV you saved created in part one into a DataFrame.\n",
    "city_data_df = pd.read_csv(\"weather_data/cities.csv\")\n",
    "city_data_df.head()"
   ]
  },
  {
   "cell_type": "code",
   "execution_count": 3,
   "id": "16d43965",
   "metadata": {},
   "outputs": [
    {
     "data": {
      "text/plain": [
       "City_ID         int64\n",
       "City           object\n",
       "Country        object\n",
       "Date           object\n",
       "Lat           float64\n",
       "Lng           float64\n",
       "Max Temp      float64\n",
       "Humidity        int64\n",
       "Cloudiness      int64\n",
       "Wind Speed    float64\n",
       "dtype: object"
      ]
     },
     "execution_count": 3,
     "metadata": {},
     "output_type": "execute_result"
    }
   ],
   "source": [
    "city_data_df.dtypes"
   ]
  },
  {
   "cell_type": "code",
   "execution_count": 4,
   "id": "f23952e7",
   "metadata": {},
   "outputs": [],
   "source": [
    "# Configure gmaps to use your Google API key.\n",
    "gmaps.configure(api_key=g_key)"
   ]
  },
  {
   "cell_type": "code",
   "execution_count": 13,
   "id": "6a68b764",
   "metadata": {},
   "outputs": [
    {
     "data": {
      "application/vnd.jupyter.widget-view+json": {
       "model_id": "b1a2c9395bc547ce8e9c6f0bab5fb9be",
       "version_major": 2,
       "version_minor": 0
      },
      "text/plain": [
       "Figure(layout=FigureLayout(height='420px'))"
      ]
     },
     "metadata": {},
     "output_type": "display_data"
    }
   ],
   "source": [
    "# Heatmap of temperature\n",
    "# Get the latitude and longitude.\n",
    "locations = city_data_df[[\"Lat\", \"Lng\"]]\n",
    "# Get the maximum temperature.\n",
    "max_temp = city_data_df[\"Max Temp\"]\n",
    "temps=[max(temp, 0) for temp in max_temp]\n",
    "# Assign the figure variable.\n",
    "fig = gmaps.figure(center=(30.0, 31.0), zoom_level=1.5)\n",
    "# Assign the heatmap variable.\n",
    "heat_layer = gmaps.heatmap_layer(locations, weights=temps, dissipating=False, max_intensity=300, point_radius=4)\n",
    "# Add the heatmap layer.\n",
    "fig.add_layer(heat_layer)\n",
    "# Call the figure to plot the data.\n",
    "fig"
   ]
  },
  {
   "cell_type": "code",
   "execution_count": 14,
   "id": "46f5027a",
   "metadata": {},
   "outputs": [
    {
     "data": {
      "application/vnd.jupyter.widget-view+json": {
       "model_id": "ffae6e36719f458fb6aaf2347fab639f",
       "version_major": 2,
       "version_minor": 0
      },
      "text/plain": [
       "Figure(layout=FigureLayout(height='420px'))"
      ]
     },
     "metadata": {},
     "output_type": "display_data"
    }
   ],
   "source": [
    "# Heatmap of percent humidity\n",
    "locations = city_data_df[[\"Lat\", \"Lng\"]]\n",
    "humidity = city_data_df[\"Humidity\"]\n",
    "fig = gmaps.figure(center=(30.0, 31.0), zoom_level=1.5)\n",
    "heat_layer = gmaps.heatmap_layer(locations, weights=humidity, dissipating=False, max_intensity=300, point_radius=4)\n",
    "\n",
    "fig.add_layer(heat_layer)\n",
    "# Call the figure to plot the data.\n",
    "fig"
   ]
  },
  {
   "cell_type": "code",
   "execution_count": 15,
   "id": "af498fc6",
   "metadata": {},
   "outputs": [
    {
     "data": {
      "application/vnd.jupyter.widget-view+json": {
       "model_id": "f9ba4a99d921414783b5cdfbce64a84e",
       "version_major": 2,
       "version_minor": 0
      },
      "text/plain": [
       "Figure(layout=FigureLayout(height='420px'))"
      ]
     },
     "metadata": {},
     "output_type": "display_data"
    }
   ],
   "source": [
    "# Heatmap of percent cloudness\n",
    "locations = city_data_df[[\"Lat\", \"Lng\"]]\n",
    "clouds = city_data_df[\"Cloudiness\"]\n",
    "fig = gmaps.figure(center=(30.0, 31.0), zoom_level=1.5)\n",
    "heat_layer = gmaps.heatmap_layer(locations, weights=clouds, dissipating=False, max_intensity=300, point_radius=4)\n",
    "\n",
    "fig.add_layer(heat_layer)\n",
    "# Call the figure to plot the data.\n",
    "fig"
   ]
  },
  {
   "cell_type": "code",
   "execution_count": 16,
   "id": "d2b2ad63",
   "metadata": {},
   "outputs": [
    {
     "data": {
      "application/vnd.jupyter.widget-view+json": {
       "model_id": "8b3073c5f0074de584f600fb18131bbe",
       "version_major": 2,
       "version_minor": 0
      },
      "text/plain": [
       "Figure(layout=FigureLayout(height='420px'))"
      ]
     },
     "metadata": {},
     "output_type": "display_data"
    }
   ],
   "source": [
    "# Heatmap of percent wind speed\n",
    "locations = city_data_df[[\"Lat\", \"Lng\"]]\n",
    "wind = city_data_df[\"Wind Speed\"]\n",
    "fig = gmaps.figure(center=(30.0, 31.0), zoom_level=1.5)\n",
    "heat_layer = gmaps.heatmap_layer(locations, weights=wind, dissipating=False, max_intensity=300, point_radius=4)\n",
    "\n",
    "fig.add_layer(heat_layer)\n",
    "# Call the figure to plot the data.\n",
    "fig"
   ]
  },
  {
   "cell_type": "code",
   "execution_count": 17,
   "id": "14b6d048",
   "metadata": {},
   "outputs": [
    {
     "name": "stdout",
     "output_type": "stream",
     "text": [
      "What is the minimum temperature you would like for your trip? 75\n",
      "What is the maximum temperature you would like for your trip? 90\n"
     ]
    }
   ],
   "source": [
    "# Ask the customer to add a minimum and maximum temperature value.\n",
    "min_temp = float(input(\"What is the minimum temperature you would like for your trip? \"))\n",
    "max_temp = float(input(\"What is the maximum temperature you would like for your trip? \"))"
   ]
  },
  {
   "cell_type": "code",
   "execution_count": 18,
   "id": "28e9d3f0",
   "metadata": {},
   "outputs": [
    {
     "data": {
      "text/html": [
       "<div>\n",
       "<style scoped>\n",
       "    .dataframe tbody tr th:only-of-type {\n",
       "        vertical-align: middle;\n",
       "    }\n",
       "\n",
       "    .dataframe tbody tr th {\n",
       "        vertical-align: top;\n",
       "    }\n",
       "\n",
       "    .dataframe thead th {\n",
       "        text-align: right;\n",
       "    }\n",
       "</style>\n",
       "<table border=\"1\" class=\"dataframe\">\n",
       "  <thead>\n",
       "    <tr style=\"text-align: right;\">\n",
       "      <th></th>\n",
       "      <th>City_ID</th>\n",
       "      <th>City</th>\n",
       "      <th>Country</th>\n",
       "      <th>Date</th>\n",
       "      <th>Lat</th>\n",
       "      <th>Lng</th>\n",
       "      <th>Max Temp</th>\n",
       "      <th>Humidity</th>\n",
       "      <th>Cloudiness</th>\n",
       "      <th>Wind Speed</th>\n",
       "    </tr>\n",
       "  </thead>\n",
       "  <tbody>\n",
       "    <tr>\n",
       "      <th>1</th>\n",
       "      <td>1</td>\n",
       "      <td>Riyadh</td>\n",
       "      <td>SA</td>\n",
       "      <td>2022-11-15 17:52:40</td>\n",
       "      <td>24.6877</td>\n",
       "      <td>46.7219</td>\n",
       "      <td>77.14</td>\n",
       "      <td>24</td>\n",
       "      <td>0</td>\n",
       "      <td>8.86</td>\n",
       "    </tr>\n",
       "    <tr>\n",
       "      <th>3</th>\n",
       "      <td>3</td>\n",
       "      <td>Amahai</td>\n",
       "      <td>ID</td>\n",
       "      <td>2022-11-15 17:54:27</td>\n",
       "      <td>-3.3333</td>\n",
       "      <td>128.9167</td>\n",
       "      <td>79.72</td>\n",
       "      <td>81</td>\n",
       "      <td>94</td>\n",
       "      <td>2.91</td>\n",
       "    </tr>\n",
       "    <tr>\n",
       "      <th>6</th>\n",
       "      <td>6</td>\n",
       "      <td>Bengkulu</td>\n",
       "      <td>ID</td>\n",
       "      <td>2022-11-15 17:54:28</td>\n",
       "      <td>-3.8004</td>\n",
       "      <td>102.2655</td>\n",
       "      <td>75.54</td>\n",
       "      <td>87</td>\n",
       "      <td>100</td>\n",
       "      <td>8.81</td>\n",
       "    </tr>\n",
       "    <tr>\n",
       "      <th>28</th>\n",
       "      <td>28</td>\n",
       "      <td>Maxixe</td>\n",
       "      <td>MZ</td>\n",
       "      <td>2022-11-15 17:54:38</td>\n",
       "      <td>-23.8597</td>\n",
       "      <td>35.3472</td>\n",
       "      <td>75.02</td>\n",
       "      <td>60</td>\n",
       "      <td>20</td>\n",
       "      <td>5.99</td>\n",
       "    </tr>\n",
       "    <tr>\n",
       "      <th>35</th>\n",
       "      <td>35</td>\n",
       "      <td>Sola</td>\n",
       "      <td>VU</td>\n",
       "      <td>2022-11-15 17:54:41</td>\n",
       "      <td>-13.8833</td>\n",
       "      <td>167.5500</td>\n",
       "      <td>80.76</td>\n",
       "      <td>71</td>\n",
       "      <td>0</td>\n",
       "      <td>1.95</td>\n",
       "    </tr>\n",
       "    <tr>\n",
       "      <th>45</th>\n",
       "      <td>45</td>\n",
       "      <td>Padang</td>\n",
       "      <td>ID</td>\n",
       "      <td>2022-11-15 17:55:47</td>\n",
       "      <td>-0.9492</td>\n",
       "      <td>100.3543</td>\n",
       "      <td>75.78</td>\n",
       "      <td>86</td>\n",
       "      <td>99</td>\n",
       "      <td>4.72</td>\n",
       "    </tr>\n",
       "    <tr>\n",
       "      <th>56</th>\n",
       "      <td>56</td>\n",
       "      <td>Atuona</td>\n",
       "      <td>PF</td>\n",
       "      <td>2022-11-15 17:55:52</td>\n",
       "      <td>-9.8000</td>\n",
       "      <td>-139.0333</td>\n",
       "      <td>77.52</td>\n",
       "      <td>74</td>\n",
       "      <td>4</td>\n",
       "      <td>17.90</td>\n",
       "    </tr>\n",
       "    <tr>\n",
       "      <th>61</th>\n",
       "      <td>61</td>\n",
       "      <td>Neuquen</td>\n",
       "      <td>AR</td>\n",
       "      <td>2022-11-15 17:55:54</td>\n",
       "      <td>-38.9516</td>\n",
       "      <td>-68.0591</td>\n",
       "      <td>78.69</td>\n",
       "      <td>31</td>\n",
       "      <td>0</td>\n",
       "      <td>2.30</td>\n",
       "    </tr>\n",
       "    <tr>\n",
       "      <th>64</th>\n",
       "      <td>64</td>\n",
       "      <td>Georgetown</td>\n",
       "      <td>MY</td>\n",
       "      <td>2022-11-15 17:52:20</td>\n",
       "      <td>5.4112</td>\n",
       "      <td>100.3354</td>\n",
       "      <td>78.89</td>\n",
       "      <td>93</td>\n",
       "      <td>20</td>\n",
       "      <td>2.30</td>\n",
       "    </tr>\n",
       "    <tr>\n",
       "      <th>66</th>\n",
       "      <td>66</td>\n",
       "      <td>Cidreira</td>\n",
       "      <td>BR</td>\n",
       "      <td>2022-11-15 17:55:56</td>\n",
       "      <td>-30.1811</td>\n",
       "      <td>-50.2056</td>\n",
       "      <td>77.94</td>\n",
       "      <td>44</td>\n",
       "      <td>0</td>\n",
       "      <td>12.66</td>\n",
       "    </tr>\n",
       "  </tbody>\n",
       "</table>\n",
       "</div>"
      ],
      "text/plain": [
       "    City_ID        City Country                 Date      Lat       Lng  \\\n",
       "1         1      Riyadh      SA  2022-11-15 17:52:40  24.6877   46.7219   \n",
       "3         3      Amahai      ID  2022-11-15 17:54:27  -3.3333  128.9167   \n",
       "6         6    Bengkulu      ID  2022-11-15 17:54:28  -3.8004  102.2655   \n",
       "28       28      Maxixe      MZ  2022-11-15 17:54:38 -23.8597   35.3472   \n",
       "35       35        Sola      VU  2022-11-15 17:54:41 -13.8833  167.5500   \n",
       "45       45      Padang      ID  2022-11-15 17:55:47  -0.9492  100.3543   \n",
       "56       56      Atuona      PF  2022-11-15 17:55:52  -9.8000 -139.0333   \n",
       "61       61     Neuquen      AR  2022-11-15 17:55:54 -38.9516  -68.0591   \n",
       "64       64  Georgetown      MY  2022-11-15 17:52:20   5.4112  100.3354   \n",
       "66       66    Cidreira      BR  2022-11-15 17:55:56 -30.1811  -50.2056   \n",
       "\n",
       "    Max Temp  Humidity  Cloudiness  Wind Speed  \n",
       "1      77.14        24           0        8.86  \n",
       "3      79.72        81          94        2.91  \n",
       "6      75.54        87         100        8.81  \n",
       "28     75.02        60          20        5.99  \n",
       "35     80.76        71           0        1.95  \n",
       "45     75.78        86          99        4.72  \n",
       "56     77.52        74           4       17.90  \n",
       "61     78.69        31           0        2.30  \n",
       "64     78.89        93          20        2.30  \n",
       "66     77.94        44           0       12.66  "
      ]
     },
     "execution_count": 18,
     "metadata": {},
     "output_type": "execute_result"
    }
   ],
   "source": [
    "# Filter the dataset to find the cities that fit the criteria.\n",
    "preferred_cities_df = city_data_df.loc[(city_data_df[\"Max Temp\"] <= max_temp) & \n",
    "                                       (city_data_df[\"Max Temp\"] >= min_temp)]\n",
    "preferred_cities_df.head(10)"
   ]
  },
  {
   "cell_type": "code",
   "execution_count": 19,
   "id": "28e89983",
   "metadata": {},
   "outputs": [
    {
     "data": {
      "text/plain": [
       "City_ID       160\n",
       "City          160\n",
       "Country       159\n",
       "Date          160\n",
       "Lat           160\n",
       "Lng           160\n",
       "Max Temp      160\n",
       "Humidity      160\n",
       "Cloudiness    160\n",
       "Wind Speed    160\n",
       "dtype: int64"
      ]
     },
     "execution_count": 19,
     "metadata": {},
     "output_type": "execute_result"
    }
   ],
   "source": [
    "preferred_cities_df.count()"
   ]
  },
  {
   "cell_type": "code",
   "execution_count": 21,
   "id": "96db3353",
   "metadata": {},
   "outputs": [
    {
     "name": "stderr",
     "output_type": "stream",
     "text": [
      "/var/folders/_t/glxznhv93cn5l8qrnzbv9vxc0000gn/T/ipykernel_14952/1457119171.py:1: SettingWithCopyWarning: \n",
      "A value is trying to be set on a copy of a slice from a DataFrame\n",
      "\n",
      "See the caveats in the documentation: https://pandas.pydata.org/pandas-docs/stable/user_guide/indexing.html#returning-a-view-versus-a-copy\n",
      "  preferred_cities_df.dropna(inplace=True)\n"
     ]
    }
   ],
   "source": [
    "preferred_cities_df.dropna(inplace=True)"
   ]
  },
  {
   "cell_type": "code",
   "execution_count": 22,
   "id": "86f3d97a",
   "metadata": {},
   "outputs": [
    {
     "data": {
      "text/plain": [
       "City_ID       159\n",
       "City          159\n",
       "Country       159\n",
       "Date          159\n",
       "Lat           159\n",
       "Lng           159\n",
       "Max Temp      159\n",
       "Humidity      159\n",
       "Cloudiness    159\n",
       "Wind Speed    159\n",
       "dtype: int64"
      ]
     },
     "execution_count": 22,
     "metadata": {},
     "output_type": "execute_result"
    }
   ],
   "source": [
    "preferred_cities_df.count()"
   ]
  },
  {
   "cell_type": "code",
   "execution_count": 23,
   "id": "10bc036e",
   "metadata": {},
   "outputs": [
    {
     "data": {
      "text/html": [
       "<div>\n",
       "<style scoped>\n",
       "    .dataframe tbody tr th:only-of-type {\n",
       "        vertical-align: middle;\n",
       "    }\n",
       "\n",
       "    .dataframe tbody tr th {\n",
       "        vertical-align: top;\n",
       "    }\n",
       "\n",
       "    .dataframe thead th {\n",
       "        text-align: right;\n",
       "    }\n",
       "</style>\n",
       "<table border=\"1\" class=\"dataframe\">\n",
       "  <thead>\n",
       "    <tr style=\"text-align: right;\">\n",
       "      <th></th>\n",
       "      <th>City</th>\n",
       "      <th>Country</th>\n",
       "      <th>Max Temp</th>\n",
       "      <th>Lat</th>\n",
       "      <th>Lng</th>\n",
       "      <th>Hotel Name</th>\n",
       "    </tr>\n",
       "  </thead>\n",
       "  <tbody>\n",
       "    <tr>\n",
       "      <th>1</th>\n",
       "      <td>Riyadh</td>\n",
       "      <td>SA</td>\n",
       "      <td>77.14</td>\n",
       "      <td>24.6877</td>\n",
       "      <td>46.7219</td>\n",
       "      <td></td>\n",
       "    </tr>\n",
       "    <tr>\n",
       "      <th>3</th>\n",
       "      <td>Amahai</td>\n",
       "      <td>ID</td>\n",
       "      <td>79.72</td>\n",
       "      <td>-3.3333</td>\n",
       "      <td>128.9167</td>\n",
       "      <td></td>\n",
       "    </tr>\n",
       "    <tr>\n",
       "      <th>6</th>\n",
       "      <td>Bengkulu</td>\n",
       "      <td>ID</td>\n",
       "      <td>75.54</td>\n",
       "      <td>-3.8004</td>\n",
       "      <td>102.2655</td>\n",
       "      <td></td>\n",
       "    </tr>\n",
       "    <tr>\n",
       "      <th>28</th>\n",
       "      <td>Maxixe</td>\n",
       "      <td>MZ</td>\n",
       "      <td>75.02</td>\n",
       "      <td>-23.8597</td>\n",
       "      <td>35.3472</td>\n",
       "      <td></td>\n",
       "    </tr>\n",
       "    <tr>\n",
       "      <th>35</th>\n",
       "      <td>Sola</td>\n",
       "      <td>VU</td>\n",
       "      <td>80.76</td>\n",
       "      <td>-13.8833</td>\n",
       "      <td>167.5500</td>\n",
       "      <td></td>\n",
       "    </tr>\n",
       "    <tr>\n",
       "      <th>45</th>\n",
       "      <td>Padang</td>\n",
       "      <td>ID</td>\n",
       "      <td>75.78</td>\n",
       "      <td>-0.9492</td>\n",
       "      <td>100.3543</td>\n",
       "      <td></td>\n",
       "    </tr>\n",
       "    <tr>\n",
       "      <th>56</th>\n",
       "      <td>Atuona</td>\n",
       "      <td>PF</td>\n",
       "      <td>77.52</td>\n",
       "      <td>-9.8000</td>\n",
       "      <td>-139.0333</td>\n",
       "      <td></td>\n",
       "    </tr>\n",
       "    <tr>\n",
       "      <th>61</th>\n",
       "      <td>Neuquen</td>\n",
       "      <td>AR</td>\n",
       "      <td>78.69</td>\n",
       "      <td>-38.9516</td>\n",
       "      <td>-68.0591</td>\n",
       "      <td></td>\n",
       "    </tr>\n",
       "    <tr>\n",
       "      <th>64</th>\n",
       "      <td>Georgetown</td>\n",
       "      <td>MY</td>\n",
       "      <td>78.89</td>\n",
       "      <td>5.4112</td>\n",
       "      <td>100.3354</td>\n",
       "      <td></td>\n",
       "    </tr>\n",
       "    <tr>\n",
       "      <th>66</th>\n",
       "      <td>Cidreira</td>\n",
       "      <td>BR</td>\n",
       "      <td>77.94</td>\n",
       "      <td>-30.1811</td>\n",
       "      <td>-50.2056</td>\n",
       "      <td></td>\n",
       "    </tr>\n",
       "  </tbody>\n",
       "</table>\n",
       "</div>"
      ],
      "text/plain": [
       "          City Country  Max Temp      Lat       Lng Hotel Name\n",
       "1       Riyadh      SA     77.14  24.6877   46.7219           \n",
       "3       Amahai      ID     79.72  -3.3333  128.9167           \n",
       "6     Bengkulu      ID     75.54  -3.8004  102.2655           \n",
       "28      Maxixe      MZ     75.02 -23.8597   35.3472           \n",
       "35        Sola      VU     80.76 -13.8833  167.5500           \n",
       "45      Padang      ID     75.78  -0.9492  100.3543           \n",
       "56      Atuona      PF     77.52  -9.8000 -139.0333           \n",
       "61     Neuquen      AR     78.69 -38.9516  -68.0591           \n",
       "64  Georgetown      MY     78.89   5.4112  100.3354           \n",
       "66    Cidreira      BR     77.94 -30.1811  -50.2056           "
      ]
     },
     "execution_count": 23,
     "metadata": {},
     "output_type": "execute_result"
    }
   ],
   "source": [
    "# Create DataFrame called hotel_df to store hotel names along with city, country, max temp, and coordinates.\n",
    "hotel_df = preferred_cities_df[[\"City\", \"Country\", \"Max Temp\", \"Lat\", \"Lng\"]].copy()\n",
    "hotel_df[\"Hotel Name\"] = \"\"\n",
    "hotel_df.head(10)"
   ]
  },
  {
   "cell_type": "code",
   "execution_count": 24,
   "id": "ef8c7ec9",
   "metadata": {},
   "outputs": [],
   "source": [
    "# Set parameters to search for a hotel.\n",
    "params = {\n",
    "    \"radius\": 5000,\n",
    "    \"type\": \"lodging\",\n",
    "    \"key\": g_key\n",
    "}"
   ]
  },
  {
   "cell_type": "code",
   "execution_count": 25,
   "id": "c1532331",
   "metadata": {},
   "outputs": [
    {
     "name": "stdout",
     "output_type": "stream",
     "text": [
      "Hotel not found... skipping.\n",
      "Hotel not found... skipping.\n",
      "Hotel not found... skipping.\n",
      "Hotel not found... skipping.\n",
      "Hotel not found... skipping.\n",
      "Hotel not found... skipping.\n",
      "Hotel not found... skipping.\n",
      "Hotel not found... skipping.\n",
      "Hotel not found... skipping.\n",
      "Hotel not found... skipping.\n"
     ]
    }
   ],
   "source": [
    "# Iterate through the DataFrame.\n",
    "for index, row in hotel_df.iterrows():\n",
    "    # Get the latitude and longitude.\n",
    "    lat = row[\"Lat\"]\n",
    "    lng = row[\"Lng\"]\n",
    "\n",
    "    # Add the latitude and longitude to location key for the params dictionary.\n",
    "    params[\"location\"] = f\"{lat},{lng}\"\n",
    "\n",
    "    # Use the search term: \"lodging\" and our latitude and longitude.\n",
    "    base_url = \"https://maps.googleapis.com/maps/api/place/nearbysearch/json\"\n",
    "    # Make request and get the JSON data from the search.\n",
    "    hotels = requests.get(base_url, params=params).json()\n",
    "    # Grab the first hotel from the results and store the name.\n",
    "    try:\n",
    "        hotel_df.loc[index, \"Hotel Name\"] = hotels[\"results\"][0][\"name\"]\n",
    "    except (IndexError):\n",
    "        print(\"Hotel not found... skipping.\")"
   ]
  },
  {
   "cell_type": "code",
   "execution_count": 26,
   "id": "c813e805",
   "metadata": {},
   "outputs": [
    {
     "data": {
      "application/vnd.jupyter.widget-view+json": {
       "model_id": "565bb05393dc4686a6a07703d9a9703e",
       "version_major": 2,
       "version_minor": 0
      },
      "text/plain": [
       "Figure(layout=FigureLayout(height='420px'))"
      ]
     },
     "metadata": {},
     "output_type": "display_data"
    }
   ],
   "source": [
    "# Add a heatmap of temperature for the vacation spots and marker for each city.\n",
    "locations = hotel_df[[\"Lat\", \"Lng\"]]\n",
    "max_temp = hotel_df[\"Max Temp\"]\n",
    "fig = gmaps.figure(center=(30.0, 31.0), zoom_level=1.5)\n",
    "heat_layer = gmaps.heatmap_layer(locations, weights=max_temp,\n",
    "             dissipating=False, max_intensity=300, point_radius=4)\n",
    "marker_layer = gmaps.marker_layer(locations)\n",
    "fig.add_layer(heat_layer)\n",
    "fig.add_layer(marker_layer)\n",
    "# Call the figure to plot the data.\n",
    "fig"
   ]
  },
  {
   "cell_type": "code",
   "execution_count": 27,
   "id": "795a65c5",
   "metadata": {},
   "outputs": [],
   "source": [
    "info_box_template = \"\"\"\n",
    "<dl>\n",
    "<dt>Hotel Name</dt><dd>{Hotel Name}</dd>\n",
    "<dt>City</dt><dd>{City}</dd>\n",
    "<dt>Country</dt><dd>{Country}</dd>\n",
    "<dt>Max Temp</dt><dd>{Max Temp} °F</dd>\n",
    "</dl>\n",
    "\"\"\""
   ]
  },
  {
   "cell_type": "code",
   "execution_count": 28,
   "id": "7e3830bc",
   "metadata": {},
   "outputs": [],
   "source": [
    "# Store the DataFrame Row.\n",
    "hotel_info = [info_box_template.format(**row) for index, row in hotel_df.iterrows()]"
   ]
  },
  {
   "cell_type": "code",
   "execution_count": 29,
   "id": "6bff1d85",
   "metadata": {},
   "outputs": [
    {
     "data": {
      "application/vnd.jupyter.widget-view+json": {
       "model_id": "105fe35c72e94853bfbb20111249ecdc",
       "version_major": 2,
       "version_minor": 0
      },
      "text/plain": [
       "Figure(layout=FigureLayout(height='420px'))"
      ]
     },
     "metadata": {},
     "output_type": "display_data"
    }
   ],
   "source": [
    "# Add a heatmap of temperature for the vacation spots and a pop-up marker for each city.\n",
    "locations = hotel_df[[\"Lat\", \"Lng\"]]\n",
    "max_temp = hotel_df[\"Max Temp\"]\n",
    "fig = gmaps.figure(center=(30.0, 31.0), zoom_level=1.5)\n",
    "heat_layer = gmaps.heatmap_layer(locations, weights=max_temp,dissipating=False,\n",
    "             max_intensity=300, point_radius=4)\n",
    "marker_layer = gmaps.marker_layer(locations, info_box_content=hotel_info)\n",
    "fig.add_layer(heat_layer)\n",
    "fig.add_layer(marker_layer)\n",
    "\n",
    "# Call the figure to plot the data.\n",
    "fig"
   ]
  },
  {
   "cell_type": "code",
   "execution_count": null,
   "id": "65b635b2",
   "metadata": {},
   "outputs": [],
   "source": []
  }
 ],
 "metadata": {
  "kernelspec": {
   "display_name": "Python 3 (ipykernel)",
   "language": "python",
   "name": "python3"
  },
  "language_info": {
   "codemirror_mode": {
    "name": "ipython",
    "version": 3
   },
   "file_extension": ".py",
   "mimetype": "text/x-python",
   "name": "python",
   "nbconvert_exporter": "python",
   "pygments_lexer": "ipython3",
   "version": "3.9.12"
  }
 },
 "nbformat": 4,
 "nbformat_minor": 5
}
