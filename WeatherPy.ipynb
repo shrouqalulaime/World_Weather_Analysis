{
 "cells": [
  {
   "cell_type": "code",
   "execution_count": 15,
   "id": "7e592d5c",
   "metadata": {},
   "outputs": [],
   "source": [
    "# Import the dependencies.\n",
    "import pandas as pd\n",
    "import matplotlib.pyplot as plt\n",
    "import numpy as np\n",
    "from citipy import citipy"
   ]
  },
  {
   "cell_type": "code",
   "execution_count": 16,
   "id": "1af5b9ed",
   "metadata": {},
   "outputs": [
    {
     "data": {
      "text/plain": [
       "<zip at 0x7fe26c929b00>"
      ]
     },
     "execution_count": 16,
     "metadata": {},
     "output_type": "execute_result"
    }
   ],
   "source": [
    "#Create random latitudes & longitudes\n",
    "lats=np.random.uniform(-90, 90, size=1500)\n",
    "lngs=np.random.uniform(-180, 180, size=1500)\n",
    "lats_lngs=zip(lats, lngs)\n",
    "lats_lngs"
   ]
  },
  {
   "cell_type": "code",
   "execution_count": 17,
   "id": "12ed2100",
   "metadata": {},
   "outputs": [],
   "source": [
    "coordinates=list(lats_lngs)"
   ]
  },
  {
   "cell_type": "code",
   "execution_count": 19,
   "id": "df225b05",
   "metadata": {},
   "outputs": [
    {
     "data": {
      "text/plain": [
       "597"
      ]
     },
     "execution_count": 19,
     "metadata": {},
     "output_type": "execute_result"
    }
   ],
   "source": [
    "#get unique cities\n",
    "cities=[]\n",
    "for coordinate in coordinates:\n",
    "    city=citipy.nearest_city(coordinate[0], coordinate[1]).city_name\n",
    "    if city not in cities:\n",
    "        cities.append(city)\n",
    "    \n",
    "len(cities)"
   ]
  },
  {
   "cell_type": "code",
   "execution_count": null,
   "id": "0a7ccbff",
   "metadata": {},
   "outputs": [],
   "source": []
  }
 ],
 "metadata": {
  "kernelspec": {
   "display_name": "Python 3 (ipykernel)",
   "language": "python",
   "name": "python3"
  },
  "language_info": {
   "codemirror_mode": {
    "name": "ipython",
    "version": 3
   },
   "file_extension": ".py",
   "mimetype": "text/x-python",
   "name": "python",
   "nbconvert_exporter": "python",
   "pygments_lexer": "ipython3",
   "version": "3.9.12"
  }
 },
 "nbformat": 4,
 "nbformat_minor": 5
}
